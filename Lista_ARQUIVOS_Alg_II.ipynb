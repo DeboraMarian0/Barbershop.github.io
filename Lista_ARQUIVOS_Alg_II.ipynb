{
  "cells": [
    {
      "cell_type": "markdown",
      "metadata": {
        "id": "view-in-github",
        "colab_type": "text"
      },
      "source": [
        "<a href=\"https://colab.research.google.com/github/DeboraMarian0/Barbershop.github.io/blob/main/Lista_ARQUIVOS_Alg_II.ipynb\" target=\"_parent\"><img src=\"https://colab.research.google.com/assets/colab-badge.svg\" alt=\"Open In Colab\"/></a>"
      ]
    },
    {
      "cell_type": "markdown",
      "metadata": {
        "id": "0KCbBoIf1MSA"
      },
      "source": [
        "## **Lista de Exercícios - Arquivos**"
      ]
    },
    {
      "cell_type": "markdown",
      "metadata": {
        "id": "TUXwDftAyWXd"
      },
      "source": [
        "**1. Crie um programa que crie um arquivo chamado \"texto.txt\" e escreva nele o seguinte texto: \"Olá, mundo!\"**"
      ]
    },
    {
      "cell_type": "code",
      "execution_count": null,
      "metadata": {
        "id": "rNbm9z8OwB2k"
      },
      "outputs": [],
      "source": [
        "arquivo = open(\"texto.txt\", 'w')\n",
        "arquivo.write('Olá, mundo!')\n",
        "\n",
        "arquivo.close()"
      ]
    },
    {
      "cell_type": "code",
      "execution_count": null,
      "metadata": {
        "id": "3B1iOlt52A73"
      },
      "outputs": [],
      "source": [
        "with open(\"texto2.txt\", 'w') as arquivo:\n",
        "  arquivo.write('Olá, mundo!')"
      ]
    },
    {
      "cell_type": "markdown",
      "metadata": {
        "id": "3JutoxUs2ylm"
      },
      "source": [
        "**2.** **Crie um programa que leia o conteúdo do arquivo** \"**texto.txt**\" **criado no exercício anterior e o exiba no console**."
      ]
    },
    {
      "cell_type": "code",
      "execution_count": null,
      "metadata": {
        "colab": {
          "base_uri": "https://localhost:8080/"
        },
        "id": "qin8Wg0_2_0y",
        "outputId": "d336a933-4c0b-477e-ffe4-8433aa042798"
      },
      "outputs": [
        {
          "name": "stdout",
          "output_type": "stream",
          "text": [
            "Olá, mundo!\n"
          ]
        }
      ],
      "source": [
        "arquivo = open('texto.txt', 'r')\n",
        "print(arquivo.read())\n",
        "\n",
        "arquivo.close()"
      ]
    },
    {
      "cell_type": "markdown",
      "metadata": {
        "id": "ZDNmjTKd3n4R"
      },
      "source": [
        "**3. Crie um programa que conte e exiba o número de linhas no arquivo**\n",
        "\"**texto.txt**\"."
      ]
    },
    {
      "cell_type": "code",
      "execution_count": null,
      "metadata": {
        "colab": {
          "base_uri": "https://localhost:8080/"
        },
        "id": "D0CMYG6L3wdM",
        "outputId": "f135a9cf-a097-43e9-aab2-a0c32371c2a6"
      },
      "outputs": [
        {
          "name": "stdout",
          "output_type": "stream",
          "text": [
            "Há 1 linha no arquivo \"texto.txt\"\n"
          ]
        }
      ],
      "source": [
        "arquivo = open('texto.txt', 'r')\n",
        "qtdd_linhas = arquivo.readlines()\n",
        "print(f'Há {len(qtdd_linhas)} linha no arquivo \"texto.txt\"')\n",
        "\n",
        "arquivo.close()"
      ]
    },
    {
      "cell_type": "markdown",
      "metadata": {
        "id": "EfA85_ZJ6Wp5"
      },
      "source": [
        "**4. Crie um programa que copie o conteúdo do arquivo** \"**texto.txt**\" **para um novo arquivo chamado**  \"**copia.txt**\"."
      ]
    },
    {
      "cell_type": "code",
      "execution_count": null,
      "metadata": {
        "id": "zMiHRxGj6pQS"
      },
      "outputs": [],
      "source": [
        "texto = open(\"texto.txt\", \"r\")\n",
        "copia = open(\"copia.txt\", \"w\")\n",
        "for linha in texto.readlines():\n",
        "  copia.write(linha)\n",
        "\n",
        "\n",
        "arquivo.close()\n",
        "copia.close()"
      ]
    },
    {
      "cell_type": "markdown",
      "metadata": {
        "id": "V1pgtbyC809Z"
      },
      "source": [
        "**5. Crie um programa que leia o conteúdo dos arquivos** \"**texto.txt**\" **e**\n",
        "\"**copia.txt**\", **e escreva o conteúdo combinado em um terceiro arquivo**\n",
        "**chamado** \"**combinado.txt**\"."
      ]
    },
    {
      "cell_type": "code",
      "execution_count": null,
      "metadata": {
        "id": "79C696SH9CE3"
      },
      "outputs": [],
      "source": [
        "texto = open(\"texto.txt\", \"r\")\n",
        "copia = open(\"copia.txt\", \"r\")\n",
        "combinado = open(\"combinado.txt\", \"w\")\n",
        "for linha in texto.readlines():\n",
        "  combinado.write(linha)\n",
        "\n",
        "\n",
        "texto.close()\n",
        "copia.close()\n",
        "combinado.close()\n",
        "\n",
        "combinado = open(\"combinado.txt\", \"a\")\n",
        "copia = open(\"copia.txt\", \"r\")\n",
        "for linha in copia.readlines():\n",
        "  combinado.write(f'\\n{linha}')\n",
        "\n",
        "combinado.close()\n",
        "copia.close()"
      ]
    },
    {
      "cell_type": "markdown",
      "metadata": {
        "id": "sbJ2wtahAMex"
      },
      "source": [
        "**6. Crie um programa que conte e exiba o número de palavras no arquivo**\n",
        "\"**texto.txt**\"."
      ]
    },
    {
      "cell_type": "code",
      "execution_count": null,
      "metadata": {
        "colab": {
          "base_uri": "https://localhost:8080/"
        },
        "id": "WUtyY1iCAWVh",
        "outputId": "d1cde74d-f5b1-4615-cbbb-0a303bb88f84"
      },
      "outputs": [
        {
          "name": "stdout",
          "output_type": "stream",
          "text": [
            "Há 2 palavras no arquivo \"texto.txt\"\n"
          ]
        }
      ],
      "source": [
        "texto = open('texto.txt', 'r')\n",
        "leitura = texto.read()\n",
        "#palavra = texto.read().split()\n",
        "palavra = leitura.split()\n",
        "print(f'Há {len(palavra)} palavras no arquivo \"texto.txt\"')\n",
        "\n",
        "texto.close()"
      ]
    },
    {
      "cell_type": "markdown",
      "metadata": {
        "id": "J938YJBNFnwN"
      },
      "source": [
        "**7. Crie um programa que leia o conteúdo do arquivo** \"**texto.txt**\" **e substitua todas as ocorrências da palavra \"mundo\" por \"Python\". O novo conteúdo deve ser escrito em um novo arquivo chamado** \"**modificado.txt**\"."
      ]
    },
    {
      "cell_type": "code",
      "execution_count": null,
      "metadata": {
        "id": "e_ggSh5NFxhC"
      },
      "outputs": [],
      "source": [
        "\n",
        "arquivo = open('texto.txt', 'r')\n",
        "modificado = open('modificado.txt', 'w')\n",
        "leitura = arquivo.read()\n",
        "palavras = leitura.split('!')\n",
        "junta = ''.join(palavras)\n",
        "pal = junta.split()\n",
        "for palavra in pal:\n",
        "  if palavra in 'mundo':\n",
        "    modificado.write(' Python!')\n",
        "  else:\n",
        "    modificado.write(palavra)\n",
        "\n",
        "\n",
        "arquivo.close()\n",
        "modificado.close()"
      ]
    },
    {
      "cell_type": "markdown",
      "metadata": {
        "id": "j3WCFLxDNrpp"
      },
      "source": [
        "**8. Crie um programa que adicione a frase \"Isso é incrível!\" ao final do arquivo**\n",
        "\"**texto.txt**\"."
      ]
    },
    {
      "cell_type": "code",
      "execution_count": null,
      "metadata": {
        "id": "o40D0AeWNwuA"
      },
      "outputs": [],
      "source": [
        "arquivo = open('texto.txt', 'a')\n",
        "arquivo.write('Isso é incrível!')\n",
        "\n",
        "arquivo.close()"
      ]
    },
    {
      "cell_type": "markdown",
      "metadata": {
        "id": "2oPkgbU5OqSw"
      },
      "source": [
        "**9. Crie um programa que leia o conteúdo do arquivo \"texto.txt\" e conte quantas letras (excluindo espaços) estão presentes no texto.**"
      ]
    },
    {
      "cell_type": "code",
      "execution_count": null,
      "metadata": {
        "colab": {
          "base_uri": "https://localhost:8080/"
        },
        "id": "pEsWppMWO5gA",
        "outputId": "d6fcf375-8819-451a-b411-201022302ae0"
      },
      "outputs": [
        {
          "name": "stdout",
          "output_type": "stream",
          "text": [
            "Há 21 letras no arquivo \"texto.txt\"\n"
          ]
        }
      ],
      "source": [
        "#modo 1:\n",
        "arquivo = open('texto.txt', 'r')\n",
        "leitura = arquivo.read()\n",
        "#tirando os espaços:\n",
        "lista_espaço = leitura.split(' ')\n",
        "frase1 = ''.join(lista_espaço)\n",
        "#tirando o ponto de exclamação:\n",
        "lista_excl = frase1.split('!')\n",
        "frase2 = ''.join(lista_excl)\n",
        "#tirando a virgula:\n",
        "lista_vir = frase2.split(',')\n",
        "frase3 = ''.join(lista_vir)\n",
        "\n",
        "print(f'Há {len(frase3)} letras no arquivo \"texto.txt\"')\n",
        "\n",
        "arquivo.close()"
      ]
    },
    {
      "cell_type": "code",
      "execution_count": null,
      "metadata": {
        "colab": {
          "base_uri": "https://localhost:8080/",
          "height": 211
        },
        "id": "xiPNp4F2Svy-",
        "outputId": "9a2a6906-5fbb-4634-9142-1e118b98851b"
      },
      "outputs": [
        {
          "output_type": "error",
          "ename": "FileNotFoundError",
          "evalue": "[Errno 2] No such file or directory: 'texto.txt'",
          "traceback": [
            "\u001b[0;31m---------------------------------------------------------------------------\u001b[0m",
            "\u001b[0;31mFileNotFoundError\u001b[0m                         Traceback (most recent call last)",
            "\u001b[0;32m<ipython-input-1-f945b6e3bd12>\u001b[0m in \u001b[0;36m<cell line: 2>\u001b[0;34m()\u001b[0m\n\u001b[1;32m      1\u001b[0m \u001b[0;31m#modo 2:\u001b[0m\u001b[0;34m\u001b[0m\u001b[0;34m\u001b[0m\u001b[0m\n\u001b[0;32m----> 2\u001b[0;31m \u001b[0marquivo\u001b[0m \u001b[0;34m=\u001b[0m \u001b[0mopen\u001b[0m\u001b[0;34m(\u001b[0m\u001b[0;34m'texto.txt'\u001b[0m\u001b[0;34m,\u001b[0m \u001b[0;34m'r'\u001b[0m\u001b[0;34m)\u001b[0m\u001b[0;34m\u001b[0m\u001b[0;34m\u001b[0m\u001b[0m\n\u001b[0m\u001b[1;32m      3\u001b[0m \u001b[0mleitura\u001b[0m \u001b[0;34m=\u001b[0m \u001b[0marquivo\u001b[0m\u001b[0;34m.\u001b[0m\u001b[0mread\u001b[0m\u001b[0;34m(\u001b[0m\u001b[0;34m)\u001b[0m\u001b[0;34m\u001b[0m\u001b[0;34m\u001b[0m\u001b[0m\n\u001b[1;32m      4\u001b[0m \u001b[0mfrase\u001b[0m \u001b[0;34m=\u001b[0m \u001b[0mleitura\u001b[0m\u001b[0;34m.\u001b[0m\u001b[0mreplace\u001b[0m\u001b[0;34m(\u001b[0m\u001b[0;34m' '\u001b[0m\u001b[0;34m,\u001b[0m \u001b[0;34m''\u001b[0m\u001b[0;34m)\u001b[0m\u001b[0;34m.\u001b[0m\u001b[0mreplace\u001b[0m\u001b[0;34m(\u001b[0m\u001b[0;34m'!'\u001b[0m\u001b[0;34m,\u001b[0m \u001b[0;34m''\u001b[0m\u001b[0;34m)\u001b[0m\u001b[0;34m.\u001b[0m\u001b[0mreplace\u001b[0m\u001b[0;34m(\u001b[0m\u001b[0;34m','\u001b[0m\u001b[0;34m,\u001b[0m \u001b[0;34m''\u001b[0m\u001b[0;34m)\u001b[0m\u001b[0;34m\u001b[0m\u001b[0;34m\u001b[0m\u001b[0m\n\u001b[1;32m      5\u001b[0m \u001b[0mprint\u001b[0m\u001b[0;34m(\u001b[0m\u001b[0mfrase\u001b[0m\u001b[0;34m)\u001b[0m\u001b[0;34m\u001b[0m\u001b[0;34m\u001b[0m\u001b[0m\n",
            "\u001b[0;31mFileNotFoundError\u001b[0m: [Errno 2] No such file or directory: 'texto.txt'"
          ]
        }
      ],
      "source": [
        "#modo 2:\n",
        "arquivo = open('texto.txt', 'r')\n",
        "leitura = arquivo.read()\n",
        "frase = leitura.replace(' ', '').replace('!', '').replace(',', '')\n",
        "print(f'Há {len(frase)} letras no arquivo \"texto.txt\"')\n",
        "\n",
        "\n",
        "arquivo.close()\n"
      ]
    },
    {
      "cell_type": "markdown",
      "metadata": {
        "id": "L0BQk-F3TXIO"
      },
      "source": [
        "**10. Crie um programa que leia o conteúdo do arquivo \"numeros.txt\" (contendo números inteiros separados por vírgula), some esses números e exiba o resultado.**"
      ]
    },
    {
      "cell_type": "code",
      "execution_count": null,
      "metadata": {
        "colab": {
          "base_uri": "https://localhost:8080/"
        },
        "id": "AmAT-OGmThTz",
        "outputId": "93cf2846-beec-495b-aaf0-a83e9cd0a4c0"
      },
      "outputs": [
        {
          "name": "stdout",
          "output_type": "stream",
          "text": [
            "A soma de todos os números presentes no arquivo \"numeros.txt\" é 4950.\n"
          ]
        }
      ],
      "source": [
        "\n",
        "numeros = open('numeros.txt', 'r')\n",
        "leitura = numeros.read()\n",
        "num_str = leitura.replace('\\n', ' ').replace('\\ufeff1', '1')\n",
        "lista = num_str.split()\n",
        "lista_int = []\n",
        "for num in lista:\n",
        "  num_int = int(num)\n",
        "  lista_int.append(num_int)\n",
        "\n",
        "soma = 0\n",
        "for num in lista_int:\n",
        "  soma += num\n",
        "\n",
        "print(f'A soma de todos os números presentes no arquivo \"numeros.txt\" é {soma}.')\n",
        "\n",
        "numeros.close()"
      ]
    },
    {
      "cell_type": "code",
      "execution_count": null,
      "metadata": {
        "colab": {
          "base_uri": "https://localhost:8080/"
        },
        "id": "Nk_CeO1obsrv",
        "outputId": "cda56b91-494c-4bef-b3ac-56f84f15de86"
      },
      "outputs": [
        {
          "name": "stdout",
          "output_type": "stream",
          "text": [
            "['\\ufeff1\\n', '2\\n', '3\\n', '4\\n', '5\\n', '6\\n', '7\\n', '8\\n', '9\\n', '10\\n', '11\\n', '12\\n', '13\\n', '14\\n', '15\\n', '16\\n', '17\\n', '18\\n', '19\\n', '20\\n', '21\\n', '22\\n', '23\\n', '24\\n', '25\\n', '26\\n', '27\\n', '28\\n', '29\\n', '30\\n', '31\\n', '32\\n', '33\\n', '34\\n', '35\\n', '36\\n', '37\\n', '38\\n', '39\\n', '40\\n', '41\\n', '42\\n', '43\\n', '44\\n', '45\\n', '46\\n', '47\\n', '48\\n', '49\\n', '50\\n', '51\\n', '52\\n', '53\\n', '54\\n', '55\\n', '56\\n', '57\\n', '58\\n', '59\\n', '60\\n', '61\\n', '62\\n', '63\\n', '64\\n', '65\\n', '66\\n', '67\\n', '68\\n', '69\\n', '70\\n', '71\\n', '72\\n', '73\\n', '74\\n', '75\\n', '76\\n', '77\\n', '78\\n', '79\\n', '80\\n', '81\\n', '82\\n', '83\\n', '84\\n', '85\\n', '86\\n', '87\\n', '88\\n', '89\\n', '90\\n', '91\\n', '92\\n', '93\\n', '94\\n', '95\\n', '96\\n', '97\\n', '98\\n', '99']\n"
          ]
        }
      ],
      "source": [
        "numeros = open('numeros.txt', 'r')\n",
        "mensagem = numeros.readlines()\n",
        "print(mensagem)\n",
        "\n",
        "numeros.close()"
      ]
    },
    {
      "cell_type": "markdown",
      "metadata": {
        "id": "QVoDRpR0djYH"
      },
      "source": [
        "**11. Faça um programa que leia um arquivo texto contendo uma lista de endereços IP e gere um outro arquivo, contendo um relatório dos endereços IP válidos e inválidos.**"
      ]
    },
    {
      "cell_type": "markdown",
      "metadata": {
        "id": "Hbqnh3ced4e-"
      },
      "source": [
        "\n",
        "200.135.80.9\n",
        "\n",
        "192.168.1.1\n",
        "\n",
        "8.35.67.74\n",
        "\n",
        "257.32.4.5\n",
        "\n",
        "85.345.1.2\n",
        "\n",
        "1.2.3.4\n",
        "\n",
        "9.8.234.5\n",
        "\n",
        "192.168.0.256"
      ]
    },
    {
      "cell_type": "code",
      "execution_count": null,
      "metadata": {
        "id": "3_mdEK9KfT9A"
      },
      "outputs": [],
      "source": [
        "#criei o arquivo porque estava dando falha no arquivo do professor!\n",
        "arquivo = open('ips.txt', 'w')\n",
        "arquivo.write(f' 200.135.80.9\\n 192.168.1.1\\n 8.35.67.74\\n 257.32.4.5\\n 85.345.1.2\\n 1.2.3.4\\n 9.8.234.5\\n 192.168.0.256')\n",
        "\n",
        "arquivo.close()\n",
        "\n",
        "arquivo = open('ips.txt', 'r')\n",
        "saida = open('saida.txt', 'w')\n",
        "list_geral = []\n",
        "for linha in arquivo:\n",
        "  subs = linha.replace('\\n', '').replace(' ', '')\n",
        "  separa = subs.split('.')\n",
        "  lista_int = []\n",
        "  for num in separa:\n",
        "    valor = int(num)\n",
        "    lista_int.append(valor)\n",
        "\n",
        "  list_geral.append(lista_int)\n",
        "\n",
        "#verificaçao se os ips sao válidos ou nao\n",
        "\n",
        "lista_validos = []\n",
        "lista_invalidos = []\n",
        "for lista in list_geral:\n",
        "  if all(0 <= num <= 255 for num in lista): #all - verifica se todos os numeros da lista estao nesse determinado intervalo\n",
        "    lista_validos.append(lista)\n",
        "  else:\n",
        "    lista_invalidos.append(lista)\n",
        "\n",
        "#transformando novamente os numeros em str:\n",
        "#validos:\n",
        "lista_val_str = []\n",
        "for lista in lista_validos:\n",
        "  lista_str = []\n",
        "  for num in lista:\n",
        "    string = str(num)\n",
        "    lista_str.append(string)\n",
        "\n",
        "  lista_val_str.append(lista_str)\n",
        "\n",
        "#invalidos:\n",
        "lista_inval_str = []\n",
        "for lista in lista_invalidos:\n",
        "  lista_str = []\n",
        "  for num in lista:\n",
        "    string = str(num)\n",
        "    lista_str.append(string)\n",
        "\n",
        "  lista_inval_str.append(lista_str)\n",
        "\n",
        "saida.write(f'[Endereços válidos:]\\n')\n",
        "arquivo.close()\n",
        "saida.close()\n",
        "\n",
        "#colocando ponto nos ips:\n",
        "\n",
        "#validos:\n",
        "saida = open('saida.txt', 'a')\n",
        "lista_str_val = []\n",
        "for lista in lista_val_str:\n",
        "  string = '.'.join(lista)\n",
        "  saida.write(f'{string}\\n')\n",
        "\n",
        "saida.close()\n",
        "\n",
        "saida = open('saida.txt', 'a')\n",
        "saida.write(f'\\n[Endereços inválidos:]\\n')\n",
        "saida.close()\n",
        "\n",
        "saida = open('saida.txt', 'a')\n",
        "lista_str_inval = []\n",
        "for lista in lista_inval_str:\n",
        "  string = '.'.join(lista)\n",
        "  saida.write(f'{string}\\n')\n",
        "\n",
        "\n",
        "saida.close()"
      ]
    },
    {
      "cell_type": "markdown",
      "metadata": {
        "id": "ECf2EJk-eeYZ"
      },
      "source": [
        "**Um endereço IP válido deve:**\n",
        "\n",
        "-> Ter valores entre 0 e 255\n",
        "\n",
        "-> Ser composto por quatro octetos e três pontos"
      ]
    },
    {
      "cell_type": "markdown",
      "metadata": {
        "id": "LyAVFSIC2FRz"
      },
      "source": [
        "**12. A ACME Inc., uma empresa de 500 funcionários, está tendo problemas de espaço em disco no seu servidor de arquivos. Para tentar resolver este problema, o Administrador de Rede precisa saber qual o espaço ocupado pelos usuários, e identificar os usuários com maior espaço ocupado. Através de um programa, baixado da Internet, ele conseguiu gerar o seguinte arquivo, chamado \"usuarios.txt\":**"
      ]
    },
    {
      "cell_type": "markdown",
      "metadata": {
        "id": "wTUofbhr2Nfa"
      },
      "source": [
        "alexandre 456123789\n",
        "\n",
        "anderson 1245698456\n",
        "\n",
        "antonio 123456456\n",
        "\n",
        "carlos 91257581\n",
        "\n",
        "cesar 987458\n",
        "\n",
        "rosemary 789456125\n"
      ]
    },
    {
      "cell_type": "markdown",
      "metadata": {
        "id": "Ztvh5IZY2WHw"
      },
      "source": [
        "**No arquivo acima, o nome do usuário possui 15 caracteres. A partir dele, você deve criar um programa que gere um relatório, chamado \"relatório.txt\", no seguinte formato:**\n",
        "\n",
        "**Observação:** O arquivo de entrada deve ser lido uma única vez, e os dados\n",
        "armazenados em memória, caso sejam necessários, de forma a agilizar a execução do programa. A conversão do espaço ocupado em disco, de bytes para megabytes deverá ser feita através de uma função separada, que será chamada pelo programa principal. O cálculo do percentual de uso também deverá ser feito através de uma função, que será chamada pelo programa principal."
      ]
    },
    {
      "cell_type": "code",
      "execution_count": null,
      "metadata": {
        "id": "qPcozqWDtryV"
      },
      "outputs": [],
      "source": [
        "#1 MB = 1.048.576 bytes\n",
        "\n",
        "def bytes_MB(bytes):\n",
        "  return bytes / 1048576\n",
        "\n",
        "def perc_uso(valor, tot):\n",
        "  return (valor/tot) * 100\n",
        "\n",
        "def relatorio(arquivo, relatorio):\n",
        "  arquivo_usuario = open(arquivo, 'r')\n",
        "  linhas = arquivo_usuario.readlines()\n",
        "  lista_tot = []\n",
        "  soma_consumo_tot = 0\n",
        "  for linha in linhas:\n",
        "    lista_user = linha.split()\n",
        "    lista_tot.append(lista_user)\n",
        "\n",
        "  soma_consumo_tot = 0\n",
        "  for i in range(len(lista_tot)):\n",
        "    if lista_tot[i][1]:\n",
        "      valor = int(lista_tot[i][1])\n",
        "      valor_MB = bytes_MB(valor)\n",
        "      lista_tot[i][1] = valor_MB\n",
        "      soma_consumo_tot += lista_tot[i][1]\n",
        "\n",
        "  espaco_medio = soma_consumo_tot / len(lista_tot)\n",
        "\n",
        "  arquivo_relatorio = open(relatorio, 'w')\n",
        "  arquivo_relatorio.write(f'ACME Inc. \\t\\t\\t Uso do espaço em disco pelos usuários\\n')\n",
        "  arquivo_relatorio.write(f'-'*70 + '\\n')\n",
        "  arquivo_relatorio.write(f'{\"Nr.\":<6}{\"Usuário\":<10}{\"Espaço utilizado\":>20}{\"% do uso\":>14}\\n\\n')\n",
        "\n",
        "  for i in range(len(lista_tot)):\n",
        "    if lista_tot[i]:\n",
        "      porcentagem = perc_uso(lista_tot[i][1], soma_consumo_tot)\n",
        "      arquivo_relatorio.write(f'{i+1:<6}{lista_tot[i][0].title():<10}{lista_tot[i][1]:>15.2f} MB{porcentagem:>13.2f}%\\n')\n",
        "\n",
        "  arquivo_relatorio.write(f'\\n Espaço total ocupado: {soma_consumo_tot:.2f} MB\\n Espaço médio ocupado: {espaco_medio:.2f} MB')\n",
        "\n",
        "  arquivo_usuario.close()\n",
        "  arquivo_relatorio.close()\n",
        "\n",
        "\n",
        "\n",
        "nome_arquivo_usuario = 'usuarios.txt'\n",
        "nome_arquivo_relatorio = 'relatorio.txt'\n",
        "relatorio(nome_arquivo_usuario, nome_arquivo_relatorio)\n"
      ]
    },
    {
      "cell_type": "markdown",
      "metadata": {
        "id": "iTf1n3vsLyiI"
      },
      "source": [
        "**13.Crie um programa que leia um arquivo-texto e gere um arquivo de saída**\n",
        "**paginado. Cada linha não deve conter mais de 76 caracteres. Cada página terá **no máximo **60** **linhas**. **Adicione na última linha de cada página o número da página atual e o nome do arquivo original.**"
      ]
    },
    {
      "cell_type": "code",
      "source": [
        "def paginacao(entrada, saida):\n",
        "    arquivo = open(entrada, 'r')\n",
        "    linhas = arquivo.readlines()\n",
        "    qntdd_caract_max = 76\n",
        "    qntdd_max_linhas = 60\n",
        "\n",
        "    saida = open(saida, 'w')\n",
        "    pag = 1\n",
        "    num_linhas = 0\n",
        "\n",
        "    for linha in linhas:\n",
        "      if num_linhas == 0:\n",
        "          saida.write(f'\\n---- Página {pag} ----\\n')\n",
        "          pag += 1\n",
        "\n",
        "      while len(linha) > qntdd_caract_max:\n",
        "          saida.write(f'{linha[:qntdd_caract_max]}\\n')\n",
        "          linha = linha[qntdd_caract_max:]\n",
        "          num_linhas += 1\n",
        "          if num_linhas >= qntdd_max_linhas:\n",
        "            num_linhas = 0\n",
        "\n",
        "      saida.write(linha.strip() + '\\n')\n",
        "      num_linhas += 1\n",
        "\n",
        "      if num_linhas >= qntdd_max_linhas:\n",
        "         num_linhas = 0\n",
        "\n",
        "    arquivo.close()\n",
        "    saida.close()\n",
        "\n",
        "\n",
        "nome_entrada = 'texto.txt'\n",
        "dic = {}\n",
        "arquivo = open(nome_entrada, 'w')\n",
        "for i in range(1000):\n",
        "    dic[f'Arquivo {i+1}'] = 'Este é um exemplo de texto genérico para o registro'\n",
        "for k, v in dic.items():\n",
        "    arquivo.write(f'{k}: {v}\\n')\n",
        "\n",
        "arquivo.close()\n",
        "\n",
        "nome_saida = 'saida.txt'\n",
        "paginacao(nome_entrada, nome_saida)\n"
      ],
      "metadata": {
        "id": "ptC7vSMk484Z"
      },
      "execution_count": null,
      "outputs": []
    },
    {
      "cell_type": "markdown",
      "metadata": {
        "id": "4qYolryKj0lO"
      },
      "source": [
        "**14. Crie um programa que leia um arquivo-texto e elimine os espaços repetidos entre as palavras e o fim das linhas. O arquivo de saída também não deve ter mais de uma linha em branco repetida.**"
      ]
    },
    {
      "cell_type": "code",
      "execution_count": null,
      "metadata": {
        "id": "G2eHRBw-kTmN"
      },
      "outputs": [],
      "source": [
        "def elimina_espaço(entrada, saida):\n",
        "    texto = open(entrada, 'r')\n",
        "    linhas = texto.readlines()\n",
        "    lista_linhas = []\n",
        "    linha_vazia = 0\n",
        "    for linha in linhas:\n",
        "      limpa_espaco = linha.strip() #remove os espaços do inicio e do fim da linha.\n",
        "      lista_limpa_espaco = limpa_espaco.split() #tira o excesso de espaço entre palavras\n",
        "      limpa_espaco = ' '.join(lista_limpa_espaco)\n",
        "      lista_linhas.append(limpa_espaco)\n",
        "\n",
        "    saida = open(saida, 'w')\n",
        "    for linha in lista_linhas:\n",
        "      if linha != '':\n",
        "        saida.write(f'{linha}\\n')\n",
        "\n",
        "\n",
        "    texto.close()\n",
        "    saida.close()\n",
        "\n",
        "\n",
        "texto = open('arquivo.txt', 'w')\n",
        "texto.write(f'  A       leitura amplia horizontes,\\n \\nenriquece a   mente e transforma nossa forma de ver o mundo. Nos dias de hoje, a\\n \\ntecnologia transformou a maneira como vivemos e nos comunicamos, conectando pessoas ao redor do mundo. Com ela, surgem   desafios, mas também inúmeras oportunidades de crescimento ')\n",
        "\n",
        "texto.close()\n",
        "\n",
        "nome_aquivo_entrada = 'arquivo.txt'\n",
        "nome_arquivo_saida = 'saida.txt'\n",
        "\n",
        "elimina_espaço(nome_aquivo_entrada, nome_arquivo_saida)"
      ]
    },
    {
      "cell_type": "code",
      "source": [
        "texto = '  A       leitura amplia horizontes,\\n \\nenriquece a   mente e transforma nossa forma de ver o mundo.'\n",
        "lista = texto.split()\n",
        "junta = ' '.join(lista)\n",
        "print(junta)"
      ],
      "metadata": {
        "colab": {
          "base_uri": "https://localhost:8080/"
        },
        "id": "oTktFcFqwFDp",
        "outputId": "526cb27c-78f7-4ce9-c1d9-b51c745ce95d"
      },
      "execution_count": null,
      "outputs": [
        {
          "output_type": "stream",
          "name": "stdout",
          "text": [
            "A leitura amplia horizontes, enriquece a mente e transforma nossa forma de ver o mundo.\n"
          ]
        }
      ]
    },
    {
      "cell_type": "code",
      "source": [
        "texto = '  A       leitura amplia horizontes,\\n \\nenriquece a   mente e transforma nossa forma de ver o mundo.'\n",
        "lista = texto.split()\n",
        "junta = ''.join(lista)\n",
        "print(junta)"
      ],
      "metadata": {
        "colab": {
          "base_uri": "https://localhost:8080/"
        },
        "id": "Lrhzq4ujwfZw",
        "outputId": "2bf7ff28-f08e-4d18-ec38-19223df7e5fa"
      },
      "execution_count": null,
      "outputs": [
        {
          "output_type": "stream",
          "name": "stdout",
          "text": [
            "Aleituraampliahorizontes,enriqueceamenteetransformanossaformadeveromundo.\n"
          ]
        }
      ]
    }
  ],
  "metadata": {
    "colab": {
      "provenance": [],
      "authorship_tag": "ABX9TyNv7FqLvqdohsG4OHB+dvbv",
      "include_colab_link": true
    },
    "kernelspec": {
      "display_name": "Python 3",
      "name": "python3"
    },
    "language_info": {
      "name": "python"
    }
  },
  "nbformat": 4,
  "nbformat_minor": 0
}